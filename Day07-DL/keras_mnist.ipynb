{
 "cells": [
  {
   "cell_type": "code",
   "execution_count": 1,
   "metadata": {},
   "outputs": [
    {
     "name": "stderr",
     "output_type": "stream",
     "text": [
      "Using TensorFlow backend.\n"
     ]
    },
    {
     "name": "stdout",
     "output_type": "stream",
     "text": [
      "(60000, 28, 28)\n",
      "(10000, 28, 28)\n",
      "(10000,)\n"
     ]
    }
   ],
   "source": [
    "from keras.datasets import mnist\n",
    "(train_images, train_labels), (test_images, test_labels) = mnist.load_data()\n",
    "print(train_images.shape)\n",
    "print(test_images.shape)\n",
    "print(test_labels.shape)"
   ]
  },
  {
   "cell_type": "code",
   "execution_count": 2,
   "metadata": {},
   "outputs": [
    {
     "name": "stdout",
     "output_type": "stream",
     "text": [
      "(50000, 784)\n",
      "(10000, 784)\n",
      "(10000,)\n"
     ]
    }
   ],
   "source": [
    "# 提取部分数据进行训练和测试\n",
    "# 训练数据\n",
    "train_images_part = train_images[:50000].reshape((50000, 28*28))\n",
    "train_images_part = train_images_part.astype('float32') / 255\n",
    "train_labels_part = train_labels[:50000]\n",
    "print(train_images_part.shape)\n",
    "# 验证数据\n",
    "val_x = train_images[-10000:].reshape((10000, 28*28))\n",
    "val_x = val_x.astype('float32') / 255\n",
    "val_y = train_labels[-10000:]\n",
    "print(val_x.shape)\n",
    "# 测试数据\n",
    "test_images_part = test_images[:10000].reshape((10000, 28 * 28))\n",
    "test_images_part = test_images_part.astype('float32') / 255\n",
    "test_labels_part = test_labels[:10000]\n",
    "print(test_labels_part.shape)"
   ]
  },
  {
   "cell_type": "code",
   "execution_count": 3,
   "metadata": {},
   "outputs": [
    {
     "name": "stdout",
     "output_type": "stream",
     "text": [
      "(10000, 10)\n"
     ]
    },
    {
     "data": {
      "text/plain": [
       "(10000,)"
      ]
     },
     "execution_count": 3,
     "metadata": {},
     "output_type": "execute_result"
    }
   ],
   "source": [
    "# 处理标签（对标签进行分类编码）\n",
    "from keras.utils import to_categorical\n",
    "train_labels_part = to_categorical(train_labels_part)\n",
    "val_y = to_categorical(val_y)\n",
    "print(val_y.shape)\n",
    "test_labels_part = to_categorical(test_labels_part)\n",
    "test_labels.shape"
   ]
  },
  {
   "cell_type": "code",
   "execution_count": 4,
   "metadata": {},
   "outputs": [
    {
     "name": "stdout",
     "output_type": "stream",
     "text": [
      "WARNING:tensorflow:From C:\\Users\\shaow\\Anaconda3\\envs\\tensorflow\\lib\\site-packages\\tensorflow\\python\\framework\\op_def_library.py:263: colocate_with (from tensorflow.python.framework.ops) is deprecated and will be removed in a future version.\n",
      "Instructions for updating:\n",
      "Colocations handled automatically by placer.\n",
      "WARNING:tensorflow:From C:\\Users\\shaow\\Anaconda3\\envs\\tensorflow\\lib\\site-packages\\keras\\backend\\tensorflow_backend.py:3445: calling dropout (from tensorflow.python.ops.nn_ops) with keep_prob is deprecated and will be removed in a future version.\n",
      "Instructions for updating:\n",
      "Please use `rate` instead of `keep_prob`. Rate should be set to `rate = 1 - keep_prob`.\n"
     ]
    }
   ],
   "source": [
    "# 构建模型\n",
    "from keras import models, layers, optimizers\n",
    "\n",
    "model = models.Sequential()\n",
    "model.add(layers.Dense(128, activation = 'relu', input_shape=(28*28, )))\n",
    "model.add(layers.Dropout(0.2))\n",
    "model.add(layers.Dense(10, activation= 'softmax'))\n",
    "\n",
    "# model = models.Sequential()\n",
    "# model.add(layers.Dropout(0.2, input_shape=(28*28,)))\n",
    "# model.add(layers.Dense(512,activation='relu'))\n",
    "# model.add(layers.Dense(10, activation='softmax'))\n"
   ]
  },
  {
   "cell_type": "code",
   "execution_count": 5,
   "metadata": {},
   "outputs": [
    {
     "name": "stdout",
     "output_type": "stream",
     "text": [
      "_________________________________________________________________\n",
      "Layer (type)                 Output Shape              Param #   \n",
      "=================================================================\n",
      "dense_1 (Dense)              (None, 128)               100480    \n",
      "_________________________________________________________________\n",
      "dropout_1 (Dropout)          (None, 128)               0         \n",
      "_________________________________________________________________\n",
      "dense_2 (Dense)              (None, 10)                1290      \n",
      "=================================================================\n",
      "Total params: 101,770\n",
      "Trainable params: 101,770\n",
      "Non-trainable params: 0\n",
      "_________________________________________________________________\n"
     ]
    }
   ],
   "source": [
    "model.compile(optimizer=\n",
    "              optimizers.Adam(lr=0.001, \n",
    "              beta_1=0.9, \n",
    "              beta_2=0.999, \n",
    "              epsilon=None, \n",
    "              decay=0.0, \n",
    "              amsgrad=False),\n",
    "              loss='categorical_crossentropy',\n",
    "             metrics=['accuracy'])\n",
    "model.summary()"
   ]
  },
  {
   "cell_type": "code",
   "execution_count": 6,
   "metadata": {},
   "outputs": [
    {
     "name": "stdout",
     "output_type": "stream",
     "text": [
      "WARNING:tensorflow:From C:\\Users\\shaow\\Anaconda3\\envs\\tensorflow\\lib\\site-packages\\tensorflow\\python\\ops\\math_ops.py:3066: to_int32 (from tensorflow.python.ops.math_ops) is deprecated and will be removed in a future version.\n",
      "Instructions for updating:\n",
      "Use tf.cast instead.\n",
      "Train on 50000 samples, validate on 10000 samples\n",
      "Epoch 1/10\n",
      "50000/50000 [==============================] - 8s 169us/step - loss: 0.4486 - acc: 0.8733 - val_loss: 0.1989 - val_acc: 0.9451\n",
      "Epoch 2/10\n",
      "50000/50000 [==============================] - 3s 55us/step - loss: 0.2109 - acc: 0.9381 - val_loss: 0.1452 - val_acc: 0.9589\n",
      "Epoch 3/10\n",
      "50000/50000 [==============================] - 3s 59us/step - loss: 0.1594 - acc: 0.9532 - val_loss: 0.1224 - val_acc: 0.9637\n",
      "Epoch 4/10\n",
      "50000/50000 [==============================] - 3s 51us/step - loss: 0.1284 - acc: 0.9619 - val_loss: 0.1007 - val_acc: 0.9702\n",
      "Epoch 5/10\n",
      "50000/50000 [==============================] - 2s 50us/step - loss: 0.1104 - acc: 0.9667 - val_loss: 0.0930 - val_acc: 0.9721\n",
      "Epoch 6/10\n",
      "50000/50000 [==============================] - 3s 51us/step - loss: 0.0949 - acc: 0.9716 - val_loss: 0.0866 - val_acc: 0.9742\n",
      "Epoch 7/10\n",
      "50000/50000 [==============================] - 2s 50us/step - loss: 0.0827 - acc: 0.9752 - val_loss: 0.0821 - val_acc: 0.9744\n",
      "Epoch 8/10\n",
      "50000/50000 [==============================] - 3s 52us/step - loss: 0.0750 - acc: 0.9769 - val_loss: 0.0796 - val_acc: 0.9766\n",
      "Epoch 9/10\n",
      "50000/50000 [==============================] - 3s 52us/step - loss: 0.0678 - acc: 0.9795 - val_loss: 0.0753 - val_acc: 0.9777\n",
      "Epoch 10/10\n",
      "50000/50000 [==============================] - 3s 52us/step - loss: 0.0625 - acc: 0.9804 - val_loss: 0.0736 - val_acc: 0.9784\n"
     ]
    }
   ],
   "source": [
    "# 开始训练\n",
    "batch_size = 128\n",
    "epochs = 10\n",
    "history = model.fit(train_images_part, train_labels_part, batch_size = batch_size, epochs=epochs, validation_data=(val_x, val_y))"
   ]
  },
  {
   "cell_type": "code",
   "execution_count": 7,
   "metadata": {},
   "outputs": [
    {
     "name": "stdout",
     "output_type": "stream",
     "text": [
      "10000/10000 [==============================] - 1s 64us/step\n",
      "test_loss:0.07412055261386559, test_acc:0.978\n"
     ]
    }
   ],
   "source": [
    "test_loss, test_acc = model.evaluate(test_images_part, test_labels_part)\n",
    "print('test_loss:{}, test_acc:{}'.format(test_loss, test_acc))"
   ]
  },
  {
   "cell_type": "code",
   "execution_count": 13,
   "metadata": {},
   "outputs": [
    {
     "data": {
      "image/png": "[encoded data removed]",
      "text/plain": [
       "<Figure size 432x288 with 1 Axes>"
      ]
     },
     "metadata": {
      "needs_background": "light"
     },
     "output_type": "display_data"
    }
   ],
   "source": [
    "%matplotlib inline\n",
    "import matplotlib.pyplot as plt\n",
    "history_dict = history.history\n",
    "loss_values = history_dict['loss']\n",
    "val_loss_values = history_dict['val_loss']\n",
    "epochs = range(1, len(loss_values) + 1)\n",
    "plt.plot(epochs, loss_values, 'bo', label='Training loss')\n",
    "plt.plot(epochs, val_loss_values, 'b', label='Validation loss')\n",
    "plt.title('Training and validation loss')\n",
    "plt.xlabel('Epochs')\n",
    "plt.ylabel('Loss')\n",
    "plt.legend()\n",
    "plt.show()"
   ]
  },
  {
   "cell_type": "markdown",
   "metadata": {},
   "source": [
    "### 构建一个新的模型，该模型更深，观察浅层大模型和双层小模型的性能"
   ]
  },
  {
   "cell_type": "code",
   "execution_count": 9,
   "metadata": {},
   "outputs": [
    {
     "name": "stdout",
     "output_type": "stream",
     "text": [
      "_________________________________________________________________\n",
      "Layer (type)                 Output Shape              Param #   \n",
      "=================================================================\n",
      "dense_3 (Dense)              (None, 512)               401920    \n",
      "_________________________________________________________________\n",
      "dense_4 (Dense)              (None, 10)                5130      \n",
      "=================================================================\n",
      "Total params: 407,050\n",
      "Trainable params: 407,050\n",
      "Non-trainable params: 0\n",
      "_________________________________________________________________\n"
     ]
    }
   ],
   "source": [
    "# 构建新模型\n",
    "from keras import models\n",
    "from keras import layers\n",
    "from keras import regularizers\n",
    "\n",
    "model = models.Sequential()\n",
    "model.add(layers.Dense(512, activation = 'relu', kernel_regularizer=regularizers.l2(0.001),input_shape=(28*28, )))\n",
    "# model.add(layers.Dropout(0.2))\n",
    "# model.add(layers.Dense(64, activation = 'relu',kernel_regularizer=regularizers.l2(0.001)))\n",
    "# model.add(layers.Dropout(0.2))\n",
    "model.add(layers.Dense(10, activation= 'softmax'))\n",
    "\n",
    "from keras import optimizers\n",
    "model.compile(optimizer=optimizers.Adam(lr=0.001, beta_1=0.9, beta_2=0.999, epsilon=None, decay=0.0, amsgrad=False),\n",
    "             loss='categorical_crossentropy',\n",
    "             metrics=['accuracy'])\n",
    "model.summary()"
   ]
  },
  {
   "cell_type": "code",
   "execution_count": 10,
   "metadata": {},
   "outputs": [
    {
     "name": "stdout",
     "output_type": "stream",
     "text": [
      "Train on 50000 samples, validate on 10000 samples\n",
      "Epoch 1/10\n",
      "50000/50000 [==============================] - 4s 84us/step - loss: 0.5499 - acc: 0.9127 - val_loss: 0.3095 - val_acc: 0.9543\n",
      "Epoch 2/10\n",
      "50000/50000 [==============================] - 3s 68us/step - loss: 0.2708 - acc: 0.9562 - val_loss: 0.2274 - val_acc: 0.9648\n",
      "Epoch 3/10\n",
      "50000/50000 [==============================] - 3s 62us/step - loss: 0.2166 - acc: 0.9637 - val_loss: 0.2074 - val_acc: 0.9664\n",
      "Epoch 4/10\n",
      "50000/50000 [==============================] - 3s 65us/step - loss: 0.1962 - acc: 0.9673 - val_loss: 0.2052 - val_acc: 0.9662\n",
      "Epoch 5/10\n",
      "50000/50000 [==============================] - 3s 66us/step - loss: 0.1808 - acc: 0.9713 - val_loss: 0.1811 - val_acc: 0.9723\n",
      "Epoch 6/10\n",
      "50000/50000 [==============================] - 3s 69us/step - loss: 0.1709 - acc: 0.9728 - val_loss: 0.1805 - val_acc: 0.9717\n",
      "Epoch 7/10\n",
      "50000/50000 [==============================] - 4s 74us/step - loss: 0.1672 - acc: 0.9728 - val_loss: 0.1814 - val_acc: 0.9701\n",
      "Epoch 8/10\n",
      "50000/50000 [==============================] - 3s 64us/step - loss: 0.1595 - acc: 0.9749 - val_loss: 0.1698 - val_acc: 0.9712\n",
      "Epoch 9/10\n",
      "50000/50000 [==============================] - 3s 62us/step - loss: 0.1535 - acc: 0.9771 - val_loss: 0.1605 - val_acc: 0.9740\n",
      "Epoch 10/10\n",
      "50000/50000 [==============================] - 4s 72us/step - loss: 0.1508 - acc: 0.9771 - val_loss: 0.1698 - val_acc: 0.9690\n"
     ]
    }
   ],
   "source": [
    "# 开始训练\n",
    "batch_size = 128\n",
    "epochs = 10\n",
    "history = model.fit(train_images_part, train_labels_part, batch_size = batch_size, epochs=epochs, validation_data=(val_x, val_y))"
   ]
  },
  {
   "cell_type": "code",
   "execution_count": 11,
   "metadata": {},
   "outputs": [
    {
     "name": "stdout",
     "output_type": "stream",
     "text": [
      "10000/10000 [==============================] - 1s 77us/step\n",
      "test_loss:0.17083472715616227, test_acc:0.9695\n"
     ]
    }
   ],
   "source": [
    "test_loss, test_acc = model.evaluate(test_images_part, test_labels_part)\n",
    "print('test_loss:{}, test_acc:{}'.format(test_loss, test_acc))"
   ]
  },
  {
   "cell_type": "code",
   "execution_count": 12,
   "metadata": {},
   "outputs": [
    {
     "data": {
      "image/png": "[encoded data removed]",
      "text/plain": [
       "<Figure size 432x288 with 1 Axes>"
      ]
     },
     "metadata": {
      "needs_background": "light"
     },
     "output_type": "display_data"
    }
   ],
   "source": [
    "import matplotlib.pyplot as plt\n",
    "history_dict = history.history\n",
    "loss_values = history_dict['loss']\n",
    "val_loss_values = history_dict['val_loss']\n",
    "epochs = range(1, len(loss_values) + 1)\n",
    "plt.plot(epochs, loss_values, 'bo', label='Training loss')\n",
    "plt.plot(epochs, val_loss_values, 'b', label='Validation loss')\n",
    "plt.title('Training and validation loss')\n",
    "plt.xlabel('Epochs')\n",
    "plt.ylabel('Loss')\n",
    "plt.legend()\n",
    "plt.show()"
   ]
  },
  {
   "cell_type": "code",
   "execution_count": null,
   "metadata": {},
   "outputs": [],
   "source": []
  }
 ],
 "metadata": {
  "kernelspec": {
   "display_name": "Python (tensorflow)",
   "language": "python",
   "name": "tensorflow"
  },
  "language_info": {
   "codemirror_mode": {
    "name": "ipython",
    "version": 3
   },
   "file_extension": ".py",
   "mimetype": "text/x-python",
   "name": "python",
   "nbconvert_exporter": "python",
   "pygments_lexer": "ipython3",
   "version": "3.7.3"
  }
 },
 "nbformat": 4,
 "nbformat_minor": 2
}
