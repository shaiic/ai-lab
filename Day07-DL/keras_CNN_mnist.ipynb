{
 "cells": [
  {
   "cell_type": "code",
   "execution_count": 8,
   "metadata": {},
   "outputs": [
    {
     "name": "stdout",
     "output_type": "stream",
     "text": [
      "(50000, 28, 28, 1)\n",
      "(10000, 28, 28, 1)\n",
      "(10000,)\n"
     ]
    }
   ],
   "source": [
    "from keras.datasets import mnist\n",
    "from keras.utils import to_categorical\n",
    "\n",
    "(train_images, train_labels), (test_images, test_labels) = mnist.load_data()\n",
    "# 提取数据进行训练和测试\n",
    "# 训练数据\n",
    "train_images_part = train_images[:50000].reshape((50000, 28, 28, 1))\n",
    "train_images_part = train_images_part.astype('float32') / 255\n",
    "train_labels_part = train_labels[:50000]\n",
    "print(train_images_part.shape)\n",
    "# 验证数据\n",
    "val_x = train_images[-10000:].reshape((10000, 28, 28, 1))\n",
    "val_x = val_x.astype('float32') / 255\n",
    "val_y = train_labels[-10000:]\n",
    "print(val_x.shape)\n",
    "# 测试数据\n",
    "test_images_part = test_images[:10000].reshape((10000, 28 , 28, 1))\n",
    "test_images_part = test_images_part.astype('float32') / 255\n",
    "test_labels_part = test_labels[:10000]\n",
    "print(test_labels_part.shape)\n"
   ]
  },
  {
   "cell_type": "code",
   "execution_count": 11,
   "metadata": {},
   "outputs": [
    {
     "name": "stdout",
     "output_type": "stream",
     "text": [
      "(10000, 10)\n"
     ]
    },
    {
     "data": {
      "text/plain": [
       "(10000,)"
      ]
     },
     "execution_count": 11,
     "metadata": {},
     "output_type": "execute_result"
    }
   ],
   "source": [
    "# 处理标签（对标签进行分类编码）\n",
    "from keras.utils import to_categorical\n",
    "train_labels_part = to_categorical(train_labels_part)\n",
    "val_y = to_categorical(val_y)\n",
    "print(val_y.shape)\n",
    "test_labels_part = to_categorical(test_labels_part)\n",
    "test_labels.shape"
   ]
  },
  {
   "cell_type": "code",
   "execution_count": 13,
   "metadata": {},
   "outputs": [
    {
     "name": "stdout",
     "output_type": "stream",
     "text": [
      "_________________________________________________________________\n",
      "Layer (type)                 Output Shape              Param #   \n",
      "=================================================================\n",
      "conv2d_7 (Conv2D)            (None, 26, 26, 64)        640       \n",
      "_________________________________________________________________\n",
      "conv2d_8 (Conv2D)            (None, 24, 24, 64)        36928     \n",
      "_________________________________________________________________\n",
      "max_pooling2d_4 (MaxPooling2 (None, 12, 12, 64)        0         \n",
      "_________________________________________________________________\n",
      "flatten_4 (Flatten)          (None, 9216)              0         \n",
      "_________________________________________________________________\n",
      "dense_7 (Dense)              (None, 128)               1179776   \n",
      "_________________________________________________________________\n",
      "dropout_4 (Dropout)          (None, 128)               0         \n",
      "_________________________________________________________________\n",
      "dense_8 (Dense)              (None, 10)                1290      \n",
      "=================================================================\n",
      "Total params: 1,218,634\n",
      "Trainable params: 1,218,634\n",
      "Non-trainable params: 0\n",
      "_________________________________________________________________\n"
     ]
    }
   ],
   "source": [
    "from keras.models import Sequential\n",
    "from keras.layers import Conv2D, MaxPool2D, Flatten, Dropout, Dense\n",
    "from keras.losses import categorical_crossentropy\n",
    "from keras.optimizers import Adam\n",
    "\n",
    "model = Sequential()\n",
    "model.add(Conv2D(64, (3,3), activation='relu', input_shape=[28, 28, 1]))\n",
    "model.add(Conv2D(64, (3,3), activation='relu'))\n",
    "model.add(MaxPool2D(pool_size=(2,2)))\n",
    "model.add(Flatten())\n",
    "model.add(Dense(128, activation='relu'))\n",
    "model.add(Dropout(0.3))\n",
    "model.add(Dense(10, activation='softmax'))\n",
    "\n",
    "model.compile(loss='categorical_crossentropy',\n",
    "             optimizer=Adam(),\n",
    "             metrics=['accuracy'])\n",
    "\n",
    "model.summary()"
   ]
  },
  {
   "cell_type": "code",
   "execution_count": 14,
   "metadata": {},
   "outputs": [
    {
     "name": "stdout",
     "output_type": "stream",
     "text": [
      "Train on 50000 samples, validate on 10000 samples\n",
      "Epoch 1/10\n",
      "50000/50000 [==============================] - 15s 308us/step - loss: 0.2100 - acc: 0.9358 - val_loss: 0.0590 - val_acc: 0.9819\n",
      "Epoch 2/10\n",
      "50000/50000 [==============================] - 14s 278us/step - loss: 0.0612 - acc: 0.9815 - val_loss: 0.0547 - val_acc: 0.9836\n",
      "Epoch 3/10\n",
      "50000/50000 [==============================] - 14s 278us/step - loss: 0.0415 - acc: 0.9873 - val_loss: 0.0400 - val_acc: 0.9879\n",
      "Epoch 4/10\n",
      "50000/50000 [==============================] - 14s 278us/step - loss: 0.0333 - acc: 0.9895 - val_loss: 0.0434 - val_acc: 0.9876\n",
      "Epoch 5/10\n",
      "50000/50000 [==============================] - 14s 278us/step - loss: 0.0247 - acc: 0.9917 - val_loss: 0.0424 - val_acc: 0.9883\n",
      "Epoch 6/10\n",
      "50000/50000 [==============================] - 14s 278us/step - loss: 0.0209 - acc: 0.9933 - val_loss: 0.0393 - val_acc: 0.9894\n",
      "Epoch 7/10\n",
      "50000/50000 [==============================] - 14s 278us/step - loss: 0.0164 - acc: 0.9947 - val_loss: 0.0389 - val_acc: 0.9900\n",
      "Epoch 8/10\n",
      "50000/50000 [==============================] - 14s 280us/step - loss: 0.0153 - acc: 0.9948 - val_loss: 0.0336 - val_acc: 0.9906\n",
      "Epoch 9/10\n",
      "50000/50000 [==============================] - 14s 278us/step - loss: 0.0134 - acc: 0.9955 - val_loss: 0.0386 - val_acc: 0.9906\n",
      "Epoch 10/10\n",
      "50000/50000 [==============================] - 14s 279us/step - loss: 0.0099 - acc: 0.9966 - val_loss: 0.0399 - val_acc: 0.9903\n",
      "10000/10000 [==============================] - 2s 167us/step\n",
      "test_loss:0.036768922923903984, test_acc:0.9903\n"
     ]
    }
   ],
   "source": [
    "batch_size = 128\n",
    "epochs = 10\n",
    "history = model.fit(train_images_part, \n",
    "                    train_labels_part, \n",
    "                    batch_size = batch_size, \n",
    "                    epochs=epochs, \n",
    "                    validation_data=(val_x, val_y))\n",
    "\n",
    "test_loss, test_acc = model.evaluate(test_images_part, test_labels_part)\n",
    "print('test_loss:{}, test_acc:{}'.format(test_loss, test_acc))"
   ]
  },
  {
   "cell_type": "code",
   "execution_count": 17,
   "metadata": {},
   "outputs": [],
   "source": [
    "model.save('mnist_CNN.h5')"
   ]
  },
  {
   "cell_type": "code",
   "execution_count": 18,
   "metadata": {},
   "outputs": [
    {
     "data": {
      "image/png": "[encoded data removed]",
      "text/plain": [
       "<Figure size 432x288 with 1 Axes>"
      ]
     },
     "metadata": {
      "needs_background": "light"
     },
     "output_type": "display_data"
    }
   ],
   "source": [
    "import matplotlib.pyplot as plt\n",
    "history_dict = history.history\n",
    "loss_values = history_dict['loss']\n",
    "val_loss_values = history_dict['val_loss']\n",
    "epochs = range(1, len(loss_values) + 1)\n",
    "plt.plot(epochs, loss_values, 'bo', label='Training loss')\n",
    "plt.plot(epochs, val_loss_values, 'b', label='Validation loss')\n",
    "plt.title('Training and validation loss')\n",
    "plt.xlabel('Epochs')\n",
    "plt.ylabel('Loss')\n",
    "plt.legend()\n",
    "plt.show()"
   ]
  }
 ],
 "metadata": {
  "kernelspec": {
   "display_name": "Python (tensorflow)",
   "language": "python",
   "name": "tensorflow"
  },
  "language_info": {
   "codemirror_mode": {
    "name": "ipython",
    "version": 3
   },
   "file_extension": ".py",
   "mimetype": "text/x-python",
   "name": "python",
   "nbconvert_exporter": "python",
   "pygments_lexer": "ipython3",
   "version": "3.7.3"
  }
 },
 "nbformat": 4,
 "nbformat_minor": 2
}
